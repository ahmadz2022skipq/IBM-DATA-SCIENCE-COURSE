{
 "cells": [
  {
   "cell_type": "markdown",
   "id": "0da339be",
   "metadata": {},
   "source": [
    "# Data Science Tools and Ecosystem"
   ]
  },
  {
   "cell_type": "markdown",
   "id": "22d90ec5",
   "metadata": {},
   "source": [
    "In this notebook, Data Science Tools and Ecosystem are summarized."
   ]
  },
  {
   "cell_type": "markdown",
   "id": "52fd39c9",
   "metadata": {},
   "source": [
    "Some of the popluar languages that Data Scientists use are:\n",
    "1. Python\n",
    "2. R\n",
    "3. Scala"
   ]
  },
  {
   "cell_type": "markdown",
   "id": "10d95ef3",
   "metadata": {},
   "source": [
    "**Objectives**\n",
    "* List of Popular tools like IBM Watson Studio is discussed.\n",
    "* List of Popular languages used in Data Science like Python, R.\n",
    "* List of Libraries used in Data Science like numpy, scikit-learn."
   ]
  },
  {
   "cell_type": "markdown",
   "id": "e4c24148",
   "metadata": {},
   "source": [
    "Some of the commonly used libraries used by Data Scientists include:\n",
    "1. Pandas\n",
    "2. Numpy\n",
    "3. Plotly"
   ]
  },
  {
   "cell_type": "markdown",
   "id": "cb5c49f8",
   "metadata": {},
   "source": [
    "## Author\n",
    "Ahmad"
   ]
  },
  {
   "cell_type": "markdown",
   "id": "a75ae343",
   "metadata": {},
   "source": [
    "| Data Science Tools |\n",
    "| ----------|\n",
    "|VS Code|\n",
    "|JupyterLab|\n",
    "|IBM Watson Studio|"
   ]
  },
  {
   "cell_type": "markdown",
   "id": "677082e4",
   "metadata": {},
   "source": [
    "### Below are a few examples of evaluating arithmetic expressions in Python.\n",
    "2+2\n",
    "\n",
    "3-3\n",
    "\n",
    "4*4\n",
    "\n",
    "5/5\n",
    "\n",
    "6%6"
   ]
  },
  {
   "cell_type": "code",
   "execution_count": 1,
   "id": "160f4e64",
   "metadata": {},
   "outputs": [
    {
     "data": {
      "text/plain": [
       "17"
      ]
     },
     "execution_count": 1,
     "metadata": {},
     "output_type": "execute_result"
    }
   ],
   "source": [
    "# This a simple arithmetic expression to multiply then add integers.\n",
    "\n",
    "(3*4) + 5\n"
   ]
  },
  {
   "cell_type": "code",
   "execution_count": 3,
   "id": "14fae217",
   "metadata": {},
   "outputs": [
    {
     "data": {
      "text/plain": [
       "3.3333333333333335"
      ]
     },
     "execution_count": 3,
     "metadata": {},
     "output_type": "execute_result"
    }
   ],
   "source": [
    "# This will convert 200 minutes to hours by dividing by 60.\n",
    "200 / 60"
   ]
  },
  {
   "cell_type": "code",
   "execution_count": null,
   "id": "9bed074d",
   "metadata": {},
   "outputs": [],
   "source": []
  }
 ],
 "metadata": {
  "kernelspec": {
   "display_name": "Python 3 (ipykernel)",
   "language": "python",
   "name": "python3"
  },
  "language_info": {
   "codemirror_mode": {
    "name": "ipython",
    "version": 3
   },
   "file_extension": ".py",
   "mimetype": "text/x-python",
   "name": "python",
   "nbconvert_exporter": "python",
   "pygments_lexer": "ipython3",
   "version": "3.11.7"
  }
 },
 "nbformat": 4,
 "nbformat_minor": 5
}
